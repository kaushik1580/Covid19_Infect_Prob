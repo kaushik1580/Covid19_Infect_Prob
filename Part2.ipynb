{
 "cells": [
  {
   "attachments": {},
   "cell_type": "markdown",
   "metadata": {},
   "source": [
    "# Long Short Term Memory(LSTM)-  Time-series prediction model"
   ]
  },
  {
   "cell_type": "markdown",
   "metadata": {},
   "source": [
    "- <b>Using Long Short Term Memory (LSTM) to buid a Time-series prediction model to predict the \"Diuresis\" on 27th March.</b> \n",
    "- <b>With the value of Diuresis on 27th March and substuting in the test dataset predicting the Infect_Prob using Support Vector Regression(SVR).</b>\n",
    "- <b>Output is Infect_prob with People_Id is in the form of excel file \"part2.xlsx\"</b>"
   ]
  },
  {
   "cell_type": "code",
   "execution_count": 1,
   "metadata": {},
   "outputs": [
    {
     "name": "stderr",
     "output_type": "stream",
     "text": [
      "Using TensorFlow backend.\n"
     ]
    }
   ],
   "source": [
    "from numpy import array\n",
    "from numpy import hstack\n",
    "from keras.models import Sequential\n",
    "from keras.layers import LSTM\n",
    "from keras.layers import Dense\n",
    "import pandas as pd\n",
    "import numpy as np"
   ]
  },
  {
   "cell_type": "code",
   "execution_count": 2,
   "metadata": {},
   "outputs": [],
   "source": [
    "def split_sequences(sequences, n_steps):\n",
    "    X, y = list(), list()\n",
    "    for i in range(len(sequences)):\n",
    "        end_ix = i + n_steps\n",
    "        if end_ix > len(sequences)-1:\n",
    "            break\n",
    "        seq_x, seq_y = sequences[i:end_ix, :], sequences[end_ix, :]\n",
    "        X.append(seq_x)\n",
    "        y.append(seq_y)\n",
    "    return array(X), array(y)\n"
   ]
  },
  {
   "cell_type": "code",
   "execution_count": 3,
   "metadata": {},
   "outputs": [],
   "source": [
    "dt = pd.read_excel(\"Train_dataset.xlsx\", sheet_name=\"Diuresis_TS\")"
   ]
  },
  {
   "cell_type": "code",
   "execution_count": 4,
   "metadata": {},
   "outputs": [],
   "source": [
    "dt=dt.drop('people_ID',axis=1)"
   ]
  },
  {
   "cell_type": "code",
   "execution_count": 5,
   "metadata": {},
   "outputs": [],
   "source": [
    "dt2=dt.iloc[:,:].values"
   ]
  },
  {
   "cell_type": "code",
   "execution_count": 6,
   "metadata": {},
   "outputs": [
    {
     "data": {
      "text/plain": [
       "array([[ 441.      ,  544.2     ,  669.64    , ..., 1002.2416  ,\n",
       "        1215.68992 , 1472.627904],\n",
       "       [ 151.      ,  197.2     ,  253.24    , ...,  399.9256  ,\n",
       "         492.91072 ,  606.892864],\n",
       "       [ 416.      ,  515.2     ,  632.44    , ...,  947.7736  ,\n",
       "        1150.32832 , 1395.793984],\n",
       "       ...,\n",
       "       [ 177.      ,  228.4     ,  288.28    , ...,  448.4632  ,\n",
       "         551.15584 ,  676.787008],\n",
       "       [ 352.      ,  438.4     ,  542.68    , ...,  814.6792  ,\n",
       "         990.61504 , 1204.138048],\n",
       "       [ 181.      ,  230.2     ,  290.44    , ...,  455.2936  ,\n",
       "         559.35232 ,  686.622784]])"
      ]
     },
     "execution_count": 6,
     "metadata": {},
     "output_type": "execute_result"
    }
   ],
   "source": [
    "dt2"
   ]
  },
  {
   "cell_type": "code",
   "execution_count": 7,
   "metadata": {},
   "outputs": [],
   "source": [
    "dt2=dt2.transpose()"
   ]
  },
  {
   "cell_type": "code",
   "execution_count": 8,
   "metadata": {},
   "outputs": [],
   "source": [
    "def matprint(mat, fmt=\"g\"):\n",
    "    col_maxes = [max([len((\"{:\"+fmt+\"}\").format(x)) for x in col]) for col in mat.T]\n",
    "    for x in mat:\n",
    "        for i, y in enumerate(x):\n",
    "            print((\"{:\"+str(col_maxes[i])+fmt+\"}\").format(y), end=\"  \")\n",
    "        print(\"\")"
   ]
  },
  {
   "cell_type": "code",
   "execution_count": 9,
   "metadata": {},
   "outputs": [
    {
     "data": {
      "text/plain": [
       "array([[ 441.      ,  151.      ,  416.      , ...,  177.      ,\n",
       "         352.      ,  181.      ],\n",
       "       [ 544.2     ,  197.2     ,  515.2     , ...,  228.4     ,\n",
       "         438.4     ,  230.2     ],\n",
       "       [ 669.64    ,  253.24    ,  632.44    , ...,  288.28    ,\n",
       "         542.68    ,  290.44    ],\n",
       "       ...,\n",
       "       [1002.2416  ,  399.9256  ,  947.7736  , ...,  448.4632  ,\n",
       "         814.6792  ,  455.2936  ],\n",
       "       [1215.68992 ,  492.91072 , 1150.32832 , ...,  551.15584 ,\n",
       "         990.61504 ,  559.35232 ],\n",
       "       [1472.627904,  606.892864, 1395.793984, ...,  676.787008,\n",
       "        1204.138048,  686.622784]])"
      ]
     },
     "execution_count": 9,
     "metadata": {},
     "output_type": "execute_result"
    }
   ],
   "source": [
    "dt2"
   ]
  },
  {
   "cell_type": "code",
   "execution_count": 10,
   "metadata": {},
   "outputs": [],
   "source": [
    "n_steps = 3"
   ]
  },
  {
   "cell_type": "code",
   "execution_count": 12,
   "metadata": {},
   "outputs": [],
   "source": [
    "X, Y = split_sequences(dt2, n_steps)"
   ]
  },
  {
   "cell_type": "code",
   "execution_count": 13,
   "metadata": {},
   "outputs": [
    {
     "name": "stdout",
     "output_type": "stream",
     "text": [
      "10714\n",
      "[[[ 441.       151.       416.      ...  177.       352.       181.     ]\n",
      "  [ 544.2      197.2      515.2     ...  228.4      438.4      230.2    ]\n",
      "  [ 669.64     253.24     632.44    ...  288.28     542.68     290.44   ]]\n",
      "\n",
      " [[ 544.2      197.2      515.2     ...  228.4      438.4      230.2    ]\n",
      "  [ 669.64     253.24     632.44    ...  288.28     542.68     290.44   ]\n",
      "  [ 821.368    321.688    776.728   ...  362.136    665.816    366.328  ]]\n",
      "\n",
      " [[ 669.64     253.24     632.44    ...  288.28     542.68     290.44   ]\n",
      "  [ 821.368    321.688    776.728   ...  362.136    665.816    366.328  ]\n",
      "  [1002.2416   399.9256   947.7736  ...  448.4632   814.6792   455.2936 ]]\n",
      "\n",
      " [[ 821.368    321.688    776.728   ...  362.136    665.816    366.328  ]\n",
      "  [1002.2416   399.9256   947.7736  ...  448.4632   814.6792   455.2936 ]\n",
      "  [1215.68992  492.91072 1150.32832 ...  551.15584  990.61504  559.35232]]]\n"
     ]
    }
   ],
   "source": [
    "n_features = X.shape[2]\n",
    "\n",
    "print(X.shape[2])\n",
    "print(X)"
   ]
  },
  {
   "cell_type": "code",
   "execution_count": 14,
   "metadata": {
    "scrolled": true
   },
   "outputs": [
    {
     "data": {
      "text/plain": [
       "array([[ 821.368   ,  321.688   ,  776.728   , ...,  362.136   ,\n",
       "         665.816   ,  366.328   ],\n",
       "       [1002.2416  ,  399.9256  ,  947.7736  , ...,  448.4632  ,\n",
       "         814.6792  ,  455.2936  ],\n",
       "       [1215.68992 ,  492.91072 , 1150.32832 , ...,  551.15584 ,\n",
       "         990.61504 ,  559.35232 ],\n",
       "       [1472.627904,  606.892864, 1395.793984, ...,  676.787008,\n",
       "        1204.138048,  686.622784]])"
      ]
     },
     "execution_count": 14,
     "metadata": {},
     "output_type": "execute_result"
    }
   ],
   "source": [
    "Y"
   ]
  },
  {
   "cell_type": "markdown",
   "metadata": {},
   "source": [
    "## Defining Model & Fitting the Model"
   ]
  },
  {
   "cell_type": "code",
   "execution_count": 15,
   "metadata": {},
   "outputs": [
    {
     "data": {
      "text/plain": [
       "<keras.callbacks.callbacks.History at 0x25e6e348d08>"
      ]
     },
     "execution_count": 15,
     "metadata": {},
     "output_type": "execute_result"
    }
   ],
   "source": [
    "model = Sequential()\n",
    "model.add(LSTM(100, activation='relu', return_sequences=True, input_shape=(n_steps, n_features)))\n",
    "model.add(LSTM(100, activation='relu'))\n",
    "model.add(Dense(n_features))\n",
    "model.compile(optimizer='adam', loss='mse')\n",
    "model.fit(X, Y, epochs=400, verbose=0)"
   ]
  },
  {
   "cell_type": "code",
   "execution_count": 16,
   "metadata": {},
   "outputs": [],
   "source": [
    "series=dt2[4:7,:]"
   ]
  },
  {
   "cell_type": "code",
   "execution_count": 17,
   "metadata": {},
   "outputs": [
    {
     "data": {
      "text/plain": [
       "array([[1002.2416  ,  399.9256  ,  947.7736  , ...,  448.4632  ,\n",
       "         814.6792  ,  455.2936  ],\n",
       "       [1215.68992 ,  492.91072 , 1150.32832 , ...,  551.15584 ,\n",
       "         990.61504 ,  559.35232 ],\n",
       "       [1472.627904,  606.892864, 1395.793984, ...,  676.787008,\n",
       "        1204.138048,  686.622784]])"
      ]
     },
     "execution_count": 17,
     "metadata": {},
     "output_type": "execute_result"
    }
   ],
   "source": [
    "series"
   ]
  },
  {
   "cell_type": "code",
   "execution_count": 18,
   "metadata": {},
   "outputs": [],
   "source": [
    "series = series.reshape((1, n_steps, n_features))\n",
    "temp = model.predict(series, verbose=0)"
   ]
  },
  {
   "cell_type": "code",
   "execution_count": 19,
   "metadata": {},
   "outputs": [
    {
     "data": {
      "text/plain": [
       "array([[1823.0388 ,  739.5979 , 1723.0999 , ...,  825.66486, 1483.2754 ,\n",
       "         835.0345 ]], dtype=float32)"
      ]
     },
     "execution_count": 19,
     "metadata": {},
     "output_type": "execute_result"
    }
   ],
   "source": [
    "temp"
   ]
  },
  {
   "cell_type": "markdown",
   "metadata": {},
   "source": [
    "# Training and predicting Infect_Prob of Test Dataset Using SVR"
   ]
  },
  {
   "cell_type": "code",
   "execution_count": 20,
   "metadata": {},
   "outputs": [],
   "source": [
    "ds = pd.read_excel(\"Train_dataset.xlsx\",sheet_name = \"Train_dataset\")\n",
    "ds1 = pd.read_excel(\"Test_dataset.xlsx\")\n",
    "ds2= pd.read_excel(\"Test_dataset.xlsx\")"
   ]
  },
  {
   "cell_type": "code",
   "execution_count": 21,
   "metadata": {},
   "outputs": [
    {
     "data": {
      "text/html": [
       "<div>\n",
       "<style scoped>\n",
       "    .dataframe tbody tr th:only-of-type {\n",
       "        vertical-align: middle;\n",
       "    }\n",
       "\n",
       "    .dataframe tbody tr th {\n",
       "        vertical-align: top;\n",
       "    }\n",
       "\n",
       "    .dataframe thead th {\n",
       "        text-align: right;\n",
       "    }\n",
       "</style>\n",
       "<table border=\"1\" class=\"dataframe\">\n",
       "  <thead>\n",
       "    <tr style=\"text-align: right;\">\n",
       "      <th></th>\n",
       "      <th>people_ID</th>\n",
       "      <th>Region</th>\n",
       "      <th>Gender</th>\n",
       "      <th>Designation</th>\n",
       "      <th>Name</th>\n",
       "      <th>Married</th>\n",
       "      <th>Children</th>\n",
       "      <th>Occupation</th>\n",
       "      <th>Mode_transport</th>\n",
       "      <th>cases/1M</th>\n",
       "      <th>...</th>\n",
       "      <th>HBB</th>\n",
       "      <th>d-dimer</th>\n",
       "      <th>Heart rate</th>\n",
       "      <th>HDL cholesterol</th>\n",
       "      <th>Charlson Index</th>\n",
       "      <th>Blood Glucose</th>\n",
       "      <th>Insurance</th>\n",
       "      <th>salary</th>\n",
       "      <th>FT/month</th>\n",
       "      <th>Infect_Prob</th>\n",
       "    </tr>\n",
       "  </thead>\n",
       "  <tbody>\n",
       "    <tr>\n",
       "      <td>0</td>\n",
       "      <td>1</td>\n",
       "      <td>Bhubaneshwar</td>\n",
       "      <td>Female</td>\n",
       "      <td>Mrs</td>\n",
       "      <td>mansi</td>\n",
       "      <td>YES</td>\n",
       "      <td>1.0</td>\n",
       "      <td>Farmer</td>\n",
       "      <td>Public</td>\n",
       "      <td>2</td>\n",
       "      <td>...</td>\n",
       "      <td>93.0</td>\n",
       "      <td>233.0</td>\n",
       "      <td>82.0</td>\n",
       "      <td>58.0</td>\n",
       "      <td>27</td>\n",
       "      <td>7</td>\n",
       "      <td>3600000.0</td>\n",
       "      <td>1300000</td>\n",
       "      <td>2.0</td>\n",
       "      <td>49.135010</td>\n",
       "    </tr>\n",
       "    <tr>\n",
       "      <td>1</td>\n",
       "      <td>2</td>\n",
       "      <td>Bhubaneshwar</td>\n",
       "      <td>Female</td>\n",
       "      <td>Mrs</td>\n",
       "      <td>riya masi</td>\n",
       "      <td>YES</td>\n",
       "      <td>2.0</td>\n",
       "      <td>Farmer</td>\n",
       "      <td>Walk</td>\n",
       "      <td>2</td>\n",
       "      <td>...</td>\n",
       "      <td>56.0</td>\n",
       "      <td>328.0</td>\n",
       "      <td>89.0</td>\n",
       "      <td>68.0</td>\n",
       "      <td>5</td>\n",
       "      <td>6</td>\n",
       "      <td>1600000.0</td>\n",
       "      <td>400000</td>\n",
       "      <td>1.0</td>\n",
       "      <td>51.147880</td>\n",
       "    </tr>\n",
       "    <tr>\n",
       "      <td>2</td>\n",
       "      <td>3</td>\n",
       "      <td>Bhubaneshwar</td>\n",
       "      <td>Female</td>\n",
       "      <td>Mrs</td>\n",
       "      <td>sunita</td>\n",
       "      <td>NO</td>\n",
       "      <td>1.0</td>\n",
       "      <td>Cleaner</td>\n",
       "      <td>Public</td>\n",
       "      <td>2</td>\n",
       "      <td>...</td>\n",
       "      <td>137.0</td>\n",
       "      <td>213.0</td>\n",
       "      <td>77.0</td>\n",
       "      <td>43.0</td>\n",
       "      <td>40</td>\n",
       "      <td>6</td>\n",
       "      <td>3400000.0</td>\n",
       "      <td>900000</td>\n",
       "      <td>1.0</td>\n",
       "      <td>73.224000</td>\n",
       "    </tr>\n",
       "    <tr>\n",
       "      <td>3</td>\n",
       "      <td>4</td>\n",
       "      <td>Bhubaneshwar</td>\n",
       "      <td>Female</td>\n",
       "      <td>Mrs</td>\n",
       "      <td>anjali @ babli</td>\n",
       "      <td>YES</td>\n",
       "      <td>1.0</td>\n",
       "      <td>Driver</td>\n",
       "      <td>Car</td>\n",
       "      <td>2</td>\n",
       "      <td>...</td>\n",
       "      <td>167.0</td>\n",
       "      <td>275.0</td>\n",
       "      <td>64.0</td>\n",
       "      <td>60.0</td>\n",
       "      <td>27</td>\n",
       "      <td>7</td>\n",
       "      <td>700000.0</td>\n",
       "      <td>2300000</td>\n",
       "      <td>1.0</td>\n",
       "      <td>48.779225</td>\n",
       "    </tr>\n",
       "    <tr>\n",
       "      <td>4</td>\n",
       "      <td>5</td>\n",
       "      <td>Bhubaneshwar</td>\n",
       "      <td>Female</td>\n",
       "      <td>Mrs</td>\n",
       "      <td>champa karketta</td>\n",
       "      <td>NO</td>\n",
       "      <td>2.0</td>\n",
       "      <td>Manufacturing</td>\n",
       "      <td>Car</td>\n",
       "      <td>2</td>\n",
       "      <td>...</td>\n",
       "      <td>153.0</td>\n",
       "      <td>331.0</td>\n",
       "      <td>71.0</td>\n",
       "      <td>64.0</td>\n",
       "      <td>32</td>\n",
       "      <td>7</td>\n",
       "      <td>3200000.0</td>\n",
       "      <td>1100000</td>\n",
       "      <td>1.0</td>\n",
       "      <td>87.868800</td>\n",
       "    </tr>\n",
       "  </tbody>\n",
       "</table>\n",
       "<p>5 rows × 28 columns</p>\n",
       "</div>"
      ],
      "text/plain": [
       "   people_ID        Region  Gender Designation             Name Married  \\\n",
       "0          1  Bhubaneshwar  Female         Mrs            mansi     YES   \n",
       "1          2  Bhubaneshwar  Female         Mrs        riya masi     YES   \n",
       "2          3  Bhubaneshwar  Female         Mrs           sunita      NO   \n",
       "3          4  Bhubaneshwar  Female         Mrs   anjali @ babli     YES   \n",
       "4          5  Bhubaneshwar  Female         Mrs  champa karketta      NO   \n",
       "\n",
       "   Children     Occupation Mode_transport  cases/1M  ...    HBB d-dimer  \\\n",
       "0       1.0         Farmer         Public         2  ...   93.0   233.0   \n",
       "1       2.0         Farmer           Walk         2  ...   56.0   328.0   \n",
       "2       1.0        Cleaner         Public         2  ...  137.0   213.0   \n",
       "3       1.0         Driver            Car         2  ...  167.0   275.0   \n",
       "4       2.0  Manufacturing            Car         2  ...  153.0   331.0   \n",
       "\n",
       "   Heart rate  HDL cholesterol Charlson Index Blood Glucose  Insurance  \\\n",
       "0        82.0             58.0             27             7  3600000.0   \n",
       "1        89.0             68.0              5             6  1600000.0   \n",
       "2        77.0             43.0             40             6  3400000.0   \n",
       "3        64.0             60.0             27             7   700000.0   \n",
       "4        71.0             64.0             32             7  3200000.0   \n",
       "\n",
       "    salary  FT/month  Infect_Prob  \n",
       "0  1300000       2.0    49.135010  \n",
       "1   400000       1.0    51.147880  \n",
       "2   900000       1.0    73.224000  \n",
       "3  2300000       1.0    48.779225  \n",
       "4  1100000       1.0    87.868800  \n",
       "\n",
       "[5 rows x 28 columns]"
      ]
     },
     "execution_count": 21,
     "metadata": {},
     "output_type": "execute_result"
    }
   ],
   "source": [
    "ds.head()"
   ]
  },
  {
   "cell_type": "code",
   "execution_count": 22,
   "metadata": {},
   "outputs": [
    {
     "data": {
      "text/html": [
       "<div>\n",
       "<style scoped>\n",
       "    .dataframe tbody tr th:only-of-type {\n",
       "        vertical-align: middle;\n",
       "    }\n",
       "\n",
       "    .dataframe tbody tr th {\n",
       "        vertical-align: top;\n",
       "    }\n",
       "\n",
       "    .dataframe thead th {\n",
       "        text-align: right;\n",
       "    }\n",
       "</style>\n",
       "<table border=\"1\" class=\"dataframe\">\n",
       "  <thead>\n",
       "    <tr style=\"text-align: right;\">\n",
       "      <th></th>\n",
       "      <th>people_ID</th>\n",
       "      <th>Region</th>\n",
       "      <th>Gender</th>\n",
       "      <th>Designation</th>\n",
       "      <th>Name</th>\n",
       "      <th>Married</th>\n",
       "      <th>Children</th>\n",
       "      <th>Occupation</th>\n",
       "      <th>Mode_transport</th>\n",
       "      <th>cases/1M</th>\n",
       "      <th>...</th>\n",
       "      <th>Platelets</th>\n",
       "      <th>HBB</th>\n",
       "      <th>d-dimer</th>\n",
       "      <th>Heart rate</th>\n",
       "      <th>HDL cholesterol</th>\n",
       "      <th>Charlson Index</th>\n",
       "      <th>Blood Glucose</th>\n",
       "      <th>Insurance</th>\n",
       "      <th>salary</th>\n",
       "      <th>FT/month</th>\n",
       "    </tr>\n",
       "  </thead>\n",
       "  <tbody>\n",
       "    <tr>\n",
       "      <td>0</td>\n",
       "      <td>5942</td>\n",
       "      <td>Delhi</td>\n",
       "      <td>Female</td>\n",
       "      <td>Mrs</td>\n",
       "      <td>smt rekha prajapat</td>\n",
       "      <td>YES</td>\n",
       "      <td>2</td>\n",
       "      <td>Driver</td>\n",
       "      <td>Public</td>\n",
       "      <td>4</td>\n",
       "      <td>...</td>\n",
       "      <td>153</td>\n",
       "      <td>196</td>\n",
       "      <td>240</td>\n",
       "      <td>85</td>\n",
       "      <td>53</td>\n",
       "      <td>17</td>\n",
       "      <td>3</td>\n",
       "      <td>3900000</td>\n",
       "      <td>1300000</td>\n",
       "      <td>1</td>\n",
       "    </tr>\n",
       "    <tr>\n",
       "      <td>1</td>\n",
       "      <td>18664</td>\n",
       "      <td>Delhi</td>\n",
       "      <td>Male</td>\n",
       "      <td>Mr</td>\n",
       "      <td>nirmal</td>\n",
       "      <td>YES</td>\n",
       "      <td>2</td>\n",
       "      <td>Legal</td>\n",
       "      <td>Walk</td>\n",
       "      <td>4</td>\n",
       "      <td>...</td>\n",
       "      <td>95</td>\n",
       "      <td>138</td>\n",
       "      <td>241</td>\n",
       "      <td>81</td>\n",
       "      <td>61</td>\n",
       "      <td>2</td>\n",
       "      <td>5</td>\n",
       "      <td>1800000</td>\n",
       "      <td>1300000</td>\n",
       "      <td>1</td>\n",
       "    </tr>\n",
       "    <tr>\n",
       "      <td>2</td>\n",
       "      <td>5603</td>\n",
       "      <td>Delhi</td>\n",
       "      <td>Female</td>\n",
       "      <td>Mrs</td>\n",
       "      <td>pinky</td>\n",
       "      <td>YES</td>\n",
       "      <td>2</td>\n",
       "      <td>Sales</td>\n",
       "      <td>Car</td>\n",
       "      <td>4</td>\n",
       "      <td>...</td>\n",
       "      <td>40</td>\n",
       "      <td>166</td>\n",
       "      <td>236</td>\n",
       "      <td>88</td>\n",
       "      <td>47</td>\n",
       "      <td>24</td>\n",
       "      <td>3</td>\n",
       "      <td>5000000</td>\n",
       "      <td>2000000</td>\n",
       "      <td>2</td>\n",
       "    </tr>\n",
       "    <tr>\n",
       "      <td>3</td>\n",
       "      <td>5649</td>\n",
       "      <td>Delhi</td>\n",
       "      <td>Female</td>\n",
       "      <td>Mrs</td>\n",
       "      <td>pooja @aafrin</td>\n",
       "      <td>YES</td>\n",
       "      <td>2</td>\n",
       "      <td>Sales</td>\n",
       "      <td>Car</td>\n",
       "      <td>4</td>\n",
       "      <td>...</td>\n",
       "      <td>78</td>\n",
       "      <td>83</td>\n",
       "      <td>211</td>\n",
       "      <td>87</td>\n",
       "      <td>52</td>\n",
       "      <td>13</td>\n",
       "      <td>6</td>\n",
       "      <td>3100000</td>\n",
       "      <td>600000</td>\n",
       "      <td>2</td>\n",
       "    </tr>\n",
       "    <tr>\n",
       "      <td>4</td>\n",
       "      <td>5099</td>\n",
       "      <td>Delhi</td>\n",
       "      <td>Female</td>\n",
       "      <td>Mrs</td>\n",
       "      <td>anjali</td>\n",
       "      <td>YES</td>\n",
       "      <td>2</td>\n",
       "      <td>Business</td>\n",
       "      <td>Car</td>\n",
       "      <td>4</td>\n",
       "      <td>...</td>\n",
       "      <td>109</td>\n",
       "      <td>207</td>\n",
       "      <td>312</td>\n",
       "      <td>94</td>\n",
       "      <td>68</td>\n",
       "      <td>39</td>\n",
       "      <td>5</td>\n",
       "      <td>2300000</td>\n",
       "      <td>1500000</td>\n",
       "      <td>1</td>\n",
       "    </tr>\n",
       "  </tbody>\n",
       "</table>\n",
       "<p>5 rows × 27 columns</p>\n",
       "</div>"
      ],
      "text/plain": [
       "   people_ID Region  Gender Designation                Name Married  Children  \\\n",
       "0       5942  Delhi  Female         Mrs  smt rekha prajapat     YES         2   \n",
       "1      18664  Delhi    Male          Mr              nirmal     YES         2   \n",
       "2       5603  Delhi  Female         Mrs               pinky     YES         2   \n",
       "3       5649  Delhi  Female         Mrs       pooja @aafrin     YES         2   \n",
       "4       5099  Delhi  Female         Mrs              anjali     YES         2   \n",
       "\n",
       "  Occupation Mode_transport  cases/1M  ...  Platelets  HBB  d-dimer  \\\n",
       "0     Driver         Public         4  ...        153  196      240   \n",
       "1      Legal           Walk         4  ...         95  138      241   \n",
       "2      Sales            Car         4  ...         40  166      236   \n",
       "3      Sales            Car         4  ...         78   83      211   \n",
       "4   Business            Car         4  ...        109  207      312   \n",
       "\n",
       "   Heart rate HDL cholesterol Charlson Index  Blood Glucose  Insurance  \\\n",
       "0          85              53             17              3    3900000   \n",
       "1          81              61              2              5    1800000   \n",
       "2          88              47             24              3    5000000   \n",
       "3          87              52             13              6    3100000   \n",
       "4          94              68             39              5    2300000   \n",
       "\n",
       "    salary  FT/month  \n",
       "0  1300000         1  \n",
       "1  1300000         1  \n",
       "2  2000000         2  \n",
       "3   600000         2  \n",
       "4  1500000         1  \n",
       "\n",
       "[5 rows x 27 columns]"
      ]
     },
     "execution_count": 22,
     "metadata": {},
     "output_type": "execute_result"
    }
   ],
   "source": [
    "ds1.head()"
   ]
  },
  {
   "cell_type": "markdown",
   "metadata": {},
   "source": [
    "# Preprocessing of Train Dataset"
   ]
  },
  {
   "cell_type": "markdown",
   "metadata": {},
   "source": [
    "### Dropping of attributes"
   ]
  },
  {
   "cell_type": "code",
   "execution_count": 23,
   "metadata": {},
   "outputs": [],
   "source": [
    "ds.drop([\"salary\",\"Insurance\",\"Married\",\"Children\",\"people_ID\",\"Designation\",\"Name\"], axis = 1, inplace = True)"
   ]
  },
  {
   "cell_type": "code",
   "execution_count": 24,
   "metadata": {},
   "outputs": [
    {
     "data": {
      "text/html": [
       "<div>\n",
       "<style scoped>\n",
       "    .dataframe tbody tr th:only-of-type {\n",
       "        vertical-align: middle;\n",
       "    }\n",
       "\n",
       "    .dataframe tbody tr th {\n",
       "        vertical-align: top;\n",
       "    }\n",
       "\n",
       "    .dataframe thead th {\n",
       "        text-align: right;\n",
       "    }\n",
       "</style>\n",
       "<table border=\"1\" class=\"dataframe\">\n",
       "  <thead>\n",
       "    <tr style=\"text-align: right;\">\n",
       "      <th></th>\n",
       "      <th>Region</th>\n",
       "      <th>Gender</th>\n",
       "      <th>Occupation</th>\n",
       "      <th>Mode_transport</th>\n",
       "      <th>cases/1M</th>\n",
       "      <th>Deaths/1M</th>\n",
       "      <th>comorbidity</th>\n",
       "      <th>Age</th>\n",
       "      <th>Coma score</th>\n",
       "      <th>Pulmonary score</th>\n",
       "      <th>...</th>\n",
       "      <th>Diuresis</th>\n",
       "      <th>Platelets</th>\n",
       "      <th>HBB</th>\n",
       "      <th>d-dimer</th>\n",
       "      <th>Heart rate</th>\n",
       "      <th>HDL cholesterol</th>\n",
       "      <th>Charlson Index</th>\n",
       "      <th>Blood Glucose</th>\n",
       "      <th>FT/month</th>\n",
       "      <th>Infect_Prob</th>\n",
       "    </tr>\n",
       "  </thead>\n",
       "  <tbody>\n",
       "    <tr>\n",
       "      <td>0</td>\n",
       "      <td>Bhubaneshwar</td>\n",
       "      <td>Female</td>\n",
       "      <td>Farmer</td>\n",
       "      <td>Public</td>\n",
       "      <td>2</td>\n",
       "      <td>0</td>\n",
       "      <td>Hypertension</td>\n",
       "      <td>68</td>\n",
       "      <td>8</td>\n",
       "      <td>&lt;400</td>\n",
       "      <td>...</td>\n",
       "      <td>441.0</td>\n",
       "      <td>154.0</td>\n",
       "      <td>93.0</td>\n",
       "      <td>233.0</td>\n",
       "      <td>82.0</td>\n",
       "      <td>58.0</td>\n",
       "      <td>27</td>\n",
       "      <td>7</td>\n",
       "      <td>2.0</td>\n",
       "      <td>49.135010</td>\n",
       "    </tr>\n",
       "    <tr>\n",
       "      <td>1</td>\n",
       "      <td>Bhubaneshwar</td>\n",
       "      <td>Female</td>\n",
       "      <td>Farmer</td>\n",
       "      <td>Walk</td>\n",
       "      <td>2</td>\n",
       "      <td>0</td>\n",
       "      <td>Diabetes</td>\n",
       "      <td>64</td>\n",
       "      <td>15</td>\n",
       "      <td>&lt;100</td>\n",
       "      <td>...</td>\n",
       "      <td>NaN</td>\n",
       "      <td>121.0</td>\n",
       "      <td>56.0</td>\n",
       "      <td>328.0</td>\n",
       "      <td>89.0</td>\n",
       "      <td>68.0</td>\n",
       "      <td>5</td>\n",
       "      <td>6</td>\n",
       "      <td>1.0</td>\n",
       "      <td>51.147880</td>\n",
       "    </tr>\n",
       "    <tr>\n",
       "      <td>2</td>\n",
       "      <td>Bhubaneshwar</td>\n",
       "      <td>Female</td>\n",
       "      <td>Cleaner</td>\n",
       "      <td>Public</td>\n",
       "      <td>2</td>\n",
       "      <td>0</td>\n",
       "      <td>None</td>\n",
       "      <td>19</td>\n",
       "      <td>13</td>\n",
       "      <td>&lt;300</td>\n",
       "      <td>...</td>\n",
       "      <td>416.0</td>\n",
       "      <td>124.0</td>\n",
       "      <td>137.0</td>\n",
       "      <td>213.0</td>\n",
       "      <td>77.0</td>\n",
       "      <td>43.0</td>\n",
       "      <td>40</td>\n",
       "      <td>6</td>\n",
       "      <td>1.0</td>\n",
       "      <td>73.224000</td>\n",
       "    </tr>\n",
       "    <tr>\n",
       "      <td>3</td>\n",
       "      <td>Bhubaneshwar</td>\n",
       "      <td>Female</td>\n",
       "      <td>Driver</td>\n",
       "      <td>Car</td>\n",
       "      <td>2</td>\n",
       "      <td>0</td>\n",
       "      <td>Coronary Heart Disease</td>\n",
       "      <td>33</td>\n",
       "      <td>9</td>\n",
       "      <td>&lt;200</td>\n",
       "      <td>...</td>\n",
       "      <td>410.0</td>\n",
       "      <td>98.0</td>\n",
       "      <td>167.0</td>\n",
       "      <td>275.0</td>\n",
       "      <td>64.0</td>\n",
       "      <td>60.0</td>\n",
       "      <td>27</td>\n",
       "      <td>7</td>\n",
       "      <td>1.0</td>\n",
       "      <td>48.779225</td>\n",
       "    </tr>\n",
       "    <tr>\n",
       "      <td>4</td>\n",
       "      <td>Bhubaneshwar</td>\n",
       "      <td>Female</td>\n",
       "      <td>Manufacturing</td>\n",
       "      <td>Car</td>\n",
       "      <td>2</td>\n",
       "      <td>0</td>\n",
       "      <td>Diabetes</td>\n",
       "      <td>23</td>\n",
       "      <td>7</td>\n",
       "      <td>&lt;400</td>\n",
       "      <td>...</td>\n",
       "      <td>390.0</td>\n",
       "      <td>21.0</td>\n",
       "      <td>153.0</td>\n",
       "      <td>331.0</td>\n",
       "      <td>71.0</td>\n",
       "      <td>64.0</td>\n",
       "      <td>32</td>\n",
       "      <td>7</td>\n",
       "      <td>1.0</td>\n",
       "      <td>87.868800</td>\n",
       "    </tr>\n",
       "  </tbody>\n",
       "</table>\n",
       "<p>5 rows × 21 columns</p>\n",
       "</div>"
      ],
      "text/plain": [
       "         Region  Gender     Occupation Mode_transport  cases/1M  Deaths/1M  \\\n",
       "0  Bhubaneshwar  Female         Farmer         Public         2          0   \n",
       "1  Bhubaneshwar  Female         Farmer           Walk         2          0   \n",
       "2  Bhubaneshwar  Female        Cleaner         Public         2          0   \n",
       "3  Bhubaneshwar  Female         Driver            Car         2          0   \n",
       "4  Bhubaneshwar  Female  Manufacturing            Car         2          0   \n",
       "\n",
       "              comorbidity  Age  Coma score Pulmonary score  ... Diuresis  \\\n",
       "0            Hypertension   68           8            <400  ...    441.0   \n",
       "1                Diabetes   64          15            <100  ...      NaN   \n",
       "2                    None   19          13            <300  ...    416.0   \n",
       "3  Coronary Heart Disease   33           9            <200  ...    410.0   \n",
       "4                Diabetes   23           7            <400  ...    390.0   \n",
       "\n",
       "   Platelets    HBB  d-dimer  Heart rate  HDL cholesterol  Charlson Index  \\\n",
       "0      154.0   93.0    233.0        82.0             58.0              27   \n",
       "1      121.0   56.0    328.0        89.0             68.0               5   \n",
       "2      124.0  137.0    213.0        77.0             43.0              40   \n",
       "3       98.0  167.0    275.0        64.0             60.0              27   \n",
       "4       21.0  153.0    331.0        71.0             64.0              32   \n",
       "\n",
       "   Blood Glucose  FT/month  Infect_Prob  \n",
       "0              7       2.0    49.135010  \n",
       "1              6       1.0    51.147880  \n",
       "2              6       1.0    73.224000  \n",
       "3              7       1.0    48.779225  \n",
       "4              7       1.0    87.868800  \n",
       "\n",
       "[5 rows x 21 columns]"
      ]
     },
     "execution_count": 24,
     "metadata": {},
     "output_type": "execute_result"
    }
   ],
   "source": [
    "ds.head()"
   ]
  },
  {
   "cell_type": "markdown",
   "metadata": {},
   "source": [
    "### Filling Missing Values"
   ]
  },
  {
   "cell_type": "code",
   "execution_count": 57,
   "metadata": {},
   "outputs": [
    {
     "data": {
      "text/plain": [
       "Series([], dtype: float64)"
      ]
     },
     "execution_count": 57,
     "metadata": {},
     "output_type": "execute_result"
    }
   ],
   "source": [
    "ds_null = ds.columns[ds.isnull().any()]\n",
    "ds[ds_null].isnull().sum()"
   ]
  },
  {
   "cell_type": "code",
   "execution_count": 26,
   "metadata": {},
   "outputs": [
    {
     "data": {
      "text/plain": [
       "['Region',\n",
       " 'Gender',\n",
       " 'Occupation',\n",
       " 'Mode_transport',\n",
       " 'comorbidity',\n",
       " 'Pulmonary score',\n",
       " 'cardiological pressure']"
      ]
     },
     "execution_count": 26,
     "metadata": {},
     "output_type": "execute_result"
    }
   ],
   "source": [
    "ds_categ = list(ds.select_dtypes(exclude = [\"number\"]).columns)\n",
    "ds_categ"
   ]
  },
  {
   "cell_type": "code",
   "execution_count": 27,
   "metadata": {},
   "outputs": [],
   "source": [
    "ds[\"Mode_transport\"].fillna(method ='ffill', inplace = True)\n",
    "ds[\"comorbidity\"].fillna(method ='ffill', inplace = True)\n",
    "ds[\"cardiological pressure\"].fillna(method ='ffill', inplace = True)\n",
    "ds[\"Diuresis\"].fillna(method ='ffill', inplace = True)\n",
    "ds[\"Platelets\"].fillna(method ='ffill', inplace = True)\n",
    "ds[\"HBB\"].fillna(method ='ffill', inplace = True)\n",
    "ds[\"d-dimer\"].fillna(method ='ffill', inplace = True)\n",
    "ds[\"Heart rate\"].fillna(method ='ffill', inplace = True)\n",
    "ds[\"HDL cholesterol\"].fillna(method ='ffill', inplace = True)\n",
    "ds[\"FT/month\"].fillna(method ='ffill', inplace = True)\n",
    "ds[\"Occupation\"].fillna(method ='ffill', inplace = True)"
   ]
  },
  {
   "cell_type": "code",
   "execution_count": 28,
   "metadata": {},
   "outputs": [
    {
     "data": {
      "text/html": [
       "<div>\n",
       "<style scoped>\n",
       "    .dataframe tbody tr th:only-of-type {\n",
       "        vertical-align: middle;\n",
       "    }\n",
       "\n",
       "    .dataframe tbody tr th {\n",
       "        vertical-align: top;\n",
       "    }\n",
       "\n",
       "    .dataframe thead th {\n",
       "        text-align: right;\n",
       "    }\n",
       "</style>\n",
       "<table border=\"1\" class=\"dataframe\">\n",
       "  <thead>\n",
       "    <tr style=\"text-align: right;\">\n",
       "      <th></th>\n",
       "      <th>Region</th>\n",
       "      <th>Gender</th>\n",
       "      <th>Occupation</th>\n",
       "      <th>Mode_transport</th>\n",
       "      <th>cases/1M</th>\n",
       "      <th>Deaths/1M</th>\n",
       "      <th>comorbidity</th>\n",
       "      <th>Age</th>\n",
       "      <th>Coma score</th>\n",
       "      <th>Pulmonary score</th>\n",
       "      <th>...</th>\n",
       "      <th>Diuresis</th>\n",
       "      <th>Platelets</th>\n",
       "      <th>HBB</th>\n",
       "      <th>d-dimer</th>\n",
       "      <th>Heart rate</th>\n",
       "      <th>HDL cholesterol</th>\n",
       "      <th>Charlson Index</th>\n",
       "      <th>Blood Glucose</th>\n",
       "      <th>FT/month</th>\n",
       "      <th>Infect_Prob</th>\n",
       "    </tr>\n",
       "  </thead>\n",
       "  <tbody>\n",
       "    <tr>\n",
       "      <td>0</td>\n",
       "      <td>Bhubaneshwar</td>\n",
       "      <td>Female</td>\n",
       "      <td>Farmer</td>\n",
       "      <td>Public</td>\n",
       "      <td>2</td>\n",
       "      <td>0</td>\n",
       "      <td>Hypertension</td>\n",
       "      <td>68</td>\n",
       "      <td>8</td>\n",
       "      <td>&lt;400</td>\n",
       "      <td>...</td>\n",
       "      <td>441.0</td>\n",
       "      <td>154.0</td>\n",
       "      <td>93.0</td>\n",
       "      <td>233.0</td>\n",
       "      <td>82.0</td>\n",
       "      <td>58.0</td>\n",
       "      <td>27</td>\n",
       "      <td>7</td>\n",
       "      <td>2.0</td>\n",
       "      <td>49.135010</td>\n",
       "    </tr>\n",
       "    <tr>\n",
       "      <td>1</td>\n",
       "      <td>Bhubaneshwar</td>\n",
       "      <td>Female</td>\n",
       "      <td>Farmer</td>\n",
       "      <td>Walk</td>\n",
       "      <td>2</td>\n",
       "      <td>0</td>\n",
       "      <td>Diabetes</td>\n",
       "      <td>64</td>\n",
       "      <td>15</td>\n",
       "      <td>&lt;100</td>\n",
       "      <td>...</td>\n",
       "      <td>441.0</td>\n",
       "      <td>121.0</td>\n",
       "      <td>56.0</td>\n",
       "      <td>328.0</td>\n",
       "      <td>89.0</td>\n",
       "      <td>68.0</td>\n",
       "      <td>5</td>\n",
       "      <td>6</td>\n",
       "      <td>1.0</td>\n",
       "      <td>51.147880</td>\n",
       "    </tr>\n",
       "    <tr>\n",
       "      <td>2</td>\n",
       "      <td>Bhubaneshwar</td>\n",
       "      <td>Female</td>\n",
       "      <td>Cleaner</td>\n",
       "      <td>Public</td>\n",
       "      <td>2</td>\n",
       "      <td>0</td>\n",
       "      <td>None</td>\n",
       "      <td>19</td>\n",
       "      <td>13</td>\n",
       "      <td>&lt;300</td>\n",
       "      <td>...</td>\n",
       "      <td>416.0</td>\n",
       "      <td>124.0</td>\n",
       "      <td>137.0</td>\n",
       "      <td>213.0</td>\n",
       "      <td>77.0</td>\n",
       "      <td>43.0</td>\n",
       "      <td>40</td>\n",
       "      <td>6</td>\n",
       "      <td>1.0</td>\n",
       "      <td>73.224000</td>\n",
       "    </tr>\n",
       "    <tr>\n",
       "      <td>3</td>\n",
       "      <td>Bhubaneshwar</td>\n",
       "      <td>Female</td>\n",
       "      <td>Driver</td>\n",
       "      <td>Car</td>\n",
       "      <td>2</td>\n",
       "      <td>0</td>\n",
       "      <td>Coronary Heart Disease</td>\n",
       "      <td>33</td>\n",
       "      <td>9</td>\n",
       "      <td>&lt;200</td>\n",
       "      <td>...</td>\n",
       "      <td>410.0</td>\n",
       "      <td>98.0</td>\n",
       "      <td>167.0</td>\n",
       "      <td>275.0</td>\n",
       "      <td>64.0</td>\n",
       "      <td>60.0</td>\n",
       "      <td>27</td>\n",
       "      <td>7</td>\n",
       "      <td>1.0</td>\n",
       "      <td>48.779225</td>\n",
       "    </tr>\n",
       "    <tr>\n",
       "      <td>4</td>\n",
       "      <td>Bhubaneshwar</td>\n",
       "      <td>Female</td>\n",
       "      <td>Manufacturing</td>\n",
       "      <td>Car</td>\n",
       "      <td>2</td>\n",
       "      <td>0</td>\n",
       "      <td>Diabetes</td>\n",
       "      <td>23</td>\n",
       "      <td>7</td>\n",
       "      <td>&lt;400</td>\n",
       "      <td>...</td>\n",
       "      <td>390.0</td>\n",
       "      <td>21.0</td>\n",
       "      <td>153.0</td>\n",
       "      <td>331.0</td>\n",
       "      <td>71.0</td>\n",
       "      <td>64.0</td>\n",
       "      <td>32</td>\n",
       "      <td>7</td>\n",
       "      <td>1.0</td>\n",
       "      <td>87.868800</td>\n",
       "    </tr>\n",
       "  </tbody>\n",
       "</table>\n",
       "<p>5 rows × 21 columns</p>\n",
       "</div>"
      ],
      "text/plain": [
       "         Region  Gender     Occupation Mode_transport  cases/1M  Deaths/1M  \\\n",
       "0  Bhubaneshwar  Female         Farmer         Public         2          0   \n",
       "1  Bhubaneshwar  Female         Farmer           Walk         2          0   \n",
       "2  Bhubaneshwar  Female        Cleaner         Public         2          0   \n",
       "3  Bhubaneshwar  Female         Driver            Car         2          0   \n",
       "4  Bhubaneshwar  Female  Manufacturing            Car         2          0   \n",
       "\n",
       "              comorbidity  Age  Coma score Pulmonary score  ... Diuresis  \\\n",
       "0            Hypertension   68           8            <400  ...    441.0   \n",
       "1                Diabetes   64          15            <100  ...    441.0   \n",
       "2                    None   19          13            <300  ...    416.0   \n",
       "3  Coronary Heart Disease   33           9            <200  ...    410.0   \n",
       "4                Diabetes   23           7            <400  ...    390.0   \n",
       "\n",
       "   Platelets    HBB  d-dimer  Heart rate  HDL cholesterol  Charlson Index  \\\n",
       "0      154.0   93.0    233.0        82.0             58.0              27   \n",
       "1      121.0   56.0    328.0        89.0             68.0               5   \n",
       "2      124.0  137.0    213.0        77.0             43.0              40   \n",
       "3       98.0  167.0    275.0        64.0             60.0              27   \n",
       "4       21.0  153.0    331.0        71.0             64.0              32   \n",
       "\n",
       "   Blood Glucose  FT/month  Infect_Prob  \n",
       "0              7       2.0    49.135010  \n",
       "1              6       1.0    51.147880  \n",
       "2              6       1.0    73.224000  \n",
       "3              7       1.0    48.779225  \n",
       "4              7       1.0    87.868800  \n",
       "\n",
       "[5 rows x 21 columns]"
      ]
     },
     "execution_count": 28,
     "metadata": {},
     "output_type": "execute_result"
    }
   ],
   "source": [
    "ds.head()"
   ]
  },
  {
   "cell_type": "code",
   "execution_count": 29,
   "metadata": {},
   "outputs": [
    {
     "data": {
      "text/plain": [
       "['Region',\n",
       " 'Gender',\n",
       " 'Occupation',\n",
       " 'Mode_transport',\n",
       " 'comorbidity',\n",
       " 'Pulmonary score',\n",
       " 'cardiological pressure']"
      ]
     },
     "execution_count": 29,
     "metadata": {},
     "output_type": "execute_result"
    }
   ],
   "source": [
    "ds_categ = list(ds.select_dtypes(exclude = [\"number\"]).columns)\n",
    "ds_categ"
   ]
  },
  {
   "cell_type": "markdown",
   "metadata": {},
   "source": [
    "### Converting Categorical Value to Continous Value using Label Encoder"
   ]
  },
  {
   "cell_type": "code",
   "execution_count": 30,
   "metadata": {},
   "outputs": [
    {
     "name": "stdout",
     "output_type": "stream",
     "text": [
      "['Bhubaneshwar' 'Chandigarh' 'Chennai' 'Delhi' 'Bengaluru']\n",
      "['Female' 'Male']\n",
      "['Farmer' 'Cleaner' 'Driver' 'Manufacturing' 'Clerk' 'Sales' 'Business'\n",
      " 'Researcher' 'Legal']\n",
      "['Public' 'Walk' 'Car']\n",
      "['Hypertension' 'Diabetes' 'None' 'Coronary Heart Disease']\n",
      "['<400' '<100' '<300' '<200']\n",
      "['Normal' 'Stage-02' 'Elevated' 'Stage-01']\n"
     ]
    }
   ],
   "source": [
    "from sklearn.preprocessing import LabelEncoder\n",
    "le = LabelEncoder()\n",
    "for i in ds_categ:\n",
    "    print(ds[i].unique())\n",
    "    ds[i] = le.fit_transform(ds[i])"
   ]
  },
  {
   "cell_type": "code",
   "execution_count": 31,
   "metadata": {},
   "outputs": [
    {
     "data": {
      "text/html": [
       "<div>\n",
       "<style scoped>\n",
       "    .dataframe tbody tr th:only-of-type {\n",
       "        vertical-align: middle;\n",
       "    }\n",
       "\n",
       "    .dataframe tbody tr th {\n",
       "        vertical-align: top;\n",
       "    }\n",
       "\n",
       "    .dataframe thead th {\n",
       "        text-align: right;\n",
       "    }\n",
       "</style>\n",
       "<table border=\"1\" class=\"dataframe\">\n",
       "  <thead>\n",
       "    <tr style=\"text-align: right;\">\n",
       "      <th></th>\n",
       "      <th>Region</th>\n",
       "      <th>Gender</th>\n",
       "      <th>Occupation</th>\n",
       "      <th>Mode_transport</th>\n",
       "      <th>cases/1M</th>\n",
       "      <th>Deaths/1M</th>\n",
       "      <th>comorbidity</th>\n",
       "      <th>Age</th>\n",
       "      <th>Coma score</th>\n",
       "      <th>Pulmonary score</th>\n",
       "      <th>...</th>\n",
       "      <th>Diuresis</th>\n",
       "      <th>Platelets</th>\n",
       "      <th>HBB</th>\n",
       "      <th>d-dimer</th>\n",
       "      <th>Heart rate</th>\n",
       "      <th>HDL cholesterol</th>\n",
       "      <th>Charlson Index</th>\n",
       "      <th>Blood Glucose</th>\n",
       "      <th>FT/month</th>\n",
       "      <th>Infect_Prob</th>\n",
       "    </tr>\n",
       "  </thead>\n",
       "  <tbody>\n",
       "    <tr>\n",
       "      <td>0</td>\n",
       "      <td>1</td>\n",
       "      <td>0</td>\n",
       "      <td>4</td>\n",
       "      <td>1</td>\n",
       "      <td>2</td>\n",
       "      <td>0</td>\n",
       "      <td>2</td>\n",
       "      <td>68</td>\n",
       "      <td>8</td>\n",
       "      <td>3</td>\n",
       "      <td>...</td>\n",
       "      <td>441.0</td>\n",
       "      <td>154.0</td>\n",
       "      <td>93.0</td>\n",
       "      <td>233.0</td>\n",
       "      <td>82.0</td>\n",
       "      <td>58.0</td>\n",
       "      <td>27</td>\n",
       "      <td>7</td>\n",
       "      <td>2.0</td>\n",
       "      <td>49.135010</td>\n",
       "    </tr>\n",
       "    <tr>\n",
       "      <td>1</td>\n",
       "      <td>1</td>\n",
       "      <td>0</td>\n",
       "      <td>4</td>\n",
       "      <td>2</td>\n",
       "      <td>2</td>\n",
       "      <td>0</td>\n",
       "      <td>1</td>\n",
       "      <td>64</td>\n",
       "      <td>15</td>\n",
       "      <td>0</td>\n",
       "      <td>...</td>\n",
       "      <td>441.0</td>\n",
       "      <td>121.0</td>\n",
       "      <td>56.0</td>\n",
       "      <td>328.0</td>\n",
       "      <td>89.0</td>\n",
       "      <td>68.0</td>\n",
       "      <td>5</td>\n",
       "      <td>6</td>\n",
       "      <td>1.0</td>\n",
       "      <td>51.147880</td>\n",
       "    </tr>\n",
       "    <tr>\n",
       "      <td>2</td>\n",
       "      <td>1</td>\n",
       "      <td>0</td>\n",
       "      <td>1</td>\n",
       "      <td>1</td>\n",
       "      <td>2</td>\n",
       "      <td>0</td>\n",
       "      <td>3</td>\n",
       "      <td>19</td>\n",
       "      <td>13</td>\n",
       "      <td>2</td>\n",
       "      <td>...</td>\n",
       "      <td>416.0</td>\n",
       "      <td>124.0</td>\n",
       "      <td>137.0</td>\n",
       "      <td>213.0</td>\n",
       "      <td>77.0</td>\n",
       "      <td>43.0</td>\n",
       "      <td>40</td>\n",
       "      <td>6</td>\n",
       "      <td>1.0</td>\n",
       "      <td>73.224000</td>\n",
       "    </tr>\n",
       "    <tr>\n",
       "      <td>3</td>\n",
       "      <td>1</td>\n",
       "      <td>0</td>\n",
       "      <td>3</td>\n",
       "      <td>0</td>\n",
       "      <td>2</td>\n",
       "      <td>0</td>\n",
       "      <td>0</td>\n",
       "      <td>33</td>\n",
       "      <td>9</td>\n",
       "      <td>1</td>\n",
       "      <td>...</td>\n",
       "      <td>410.0</td>\n",
       "      <td>98.0</td>\n",
       "      <td>167.0</td>\n",
       "      <td>275.0</td>\n",
       "      <td>64.0</td>\n",
       "      <td>60.0</td>\n",
       "      <td>27</td>\n",
       "      <td>7</td>\n",
       "      <td>1.0</td>\n",
       "      <td>48.779225</td>\n",
       "    </tr>\n",
       "    <tr>\n",
       "      <td>4</td>\n",
       "      <td>1</td>\n",
       "      <td>0</td>\n",
       "      <td>6</td>\n",
       "      <td>0</td>\n",
       "      <td>2</td>\n",
       "      <td>0</td>\n",
       "      <td>1</td>\n",
       "      <td>23</td>\n",
       "      <td>7</td>\n",
       "      <td>3</td>\n",
       "      <td>...</td>\n",
       "      <td>390.0</td>\n",
       "      <td>21.0</td>\n",
       "      <td>153.0</td>\n",
       "      <td>331.0</td>\n",
       "      <td>71.0</td>\n",
       "      <td>64.0</td>\n",
       "      <td>32</td>\n",
       "      <td>7</td>\n",
       "      <td>1.0</td>\n",
       "      <td>87.868800</td>\n",
       "    </tr>\n",
       "  </tbody>\n",
       "</table>\n",
       "<p>5 rows × 21 columns</p>\n",
       "</div>"
      ],
      "text/plain": [
       "   Region  Gender  Occupation  Mode_transport  cases/1M  Deaths/1M  \\\n",
       "0       1       0           4               1         2          0   \n",
       "1       1       0           4               2         2          0   \n",
       "2       1       0           1               1         2          0   \n",
       "3       1       0           3               0         2          0   \n",
       "4       1       0           6               0         2          0   \n",
       "\n",
       "   comorbidity  Age  Coma score  Pulmonary score  ...  Diuresis  Platelets  \\\n",
       "0            2   68           8                3  ...     441.0      154.0   \n",
       "1            1   64          15                0  ...     441.0      121.0   \n",
       "2            3   19          13                2  ...     416.0      124.0   \n",
       "3            0   33           9                1  ...     410.0       98.0   \n",
       "4            1   23           7                3  ...     390.0       21.0   \n",
       "\n",
       "     HBB  d-dimer  Heart rate  HDL cholesterol  Charlson Index  Blood Glucose  \\\n",
       "0   93.0    233.0        82.0             58.0              27              7   \n",
       "1   56.0    328.0        89.0             68.0               5              6   \n",
       "2  137.0    213.0        77.0             43.0              40              6   \n",
       "3  167.0    275.0        64.0             60.0              27              7   \n",
       "4  153.0    331.0        71.0             64.0              32              7   \n",
       "\n",
       "   FT/month  Infect_Prob  \n",
       "0       2.0    49.135010  \n",
       "1       1.0    51.147880  \n",
       "2       1.0    73.224000  \n",
       "3       1.0    48.779225  \n",
       "4       1.0    87.868800  \n",
       "\n",
       "[5 rows x 21 columns]"
      ]
     },
     "execution_count": 31,
     "metadata": {},
     "output_type": "execute_result"
    }
   ],
   "source": [
    "ds.head()"
   ]
  },
  {
   "cell_type": "markdown",
   "metadata": {},
   "source": [
    "# Preprocessing Test Data"
   ]
  },
  {
   "cell_type": "code",
   "execution_count": 32,
   "metadata": {},
   "outputs": [],
   "source": [
    "ds1.drop([\"salary\",\"Insurance\",\"Married\",\"Children\",\"people_ID\",\"Designation\",\"Name\"], axis = 1, inplace = True)"
   ]
  },
  {
   "cell_type": "code",
   "execution_count": 33,
   "metadata": {},
   "outputs": [
    {
     "data": {
      "text/html": [
       "<div>\n",
       "<style scoped>\n",
       "    .dataframe tbody tr th:only-of-type {\n",
       "        vertical-align: middle;\n",
       "    }\n",
       "\n",
       "    .dataframe tbody tr th {\n",
       "        vertical-align: top;\n",
       "    }\n",
       "\n",
       "    .dataframe thead th {\n",
       "        text-align: right;\n",
       "    }\n",
       "</style>\n",
       "<table border=\"1\" class=\"dataframe\">\n",
       "  <thead>\n",
       "    <tr style=\"text-align: right;\">\n",
       "      <th></th>\n",
       "      <th>Region</th>\n",
       "      <th>Gender</th>\n",
       "      <th>Occupation</th>\n",
       "      <th>Mode_transport</th>\n",
       "      <th>cases/1M</th>\n",
       "      <th>Deaths/1M</th>\n",
       "      <th>comorbidity</th>\n",
       "      <th>Age</th>\n",
       "      <th>Coma score</th>\n",
       "      <th>Pulmonary score</th>\n",
       "      <th>cardiological pressure</th>\n",
       "      <th>Diuresis</th>\n",
       "      <th>Platelets</th>\n",
       "      <th>HBB</th>\n",
       "      <th>d-dimer</th>\n",
       "      <th>Heart rate</th>\n",
       "      <th>HDL cholesterol</th>\n",
       "      <th>Charlson Index</th>\n",
       "      <th>Blood Glucose</th>\n",
       "      <th>FT/month</th>\n",
       "    </tr>\n",
       "  </thead>\n",
       "  <tbody>\n",
       "    <tr>\n",
       "      <td>0</td>\n",
       "      <td>Delhi</td>\n",
       "      <td>Female</td>\n",
       "      <td>Driver</td>\n",
       "      <td>Public</td>\n",
       "      <td>4</td>\n",
       "      <td>1</td>\n",
       "      <td>Diabetes</td>\n",
       "      <td>52</td>\n",
       "      <td>3</td>\n",
       "      <td>&lt;200</td>\n",
       "      <td>Stage-01</td>\n",
       "      <td>388</td>\n",
       "      <td>153</td>\n",
       "      <td>196</td>\n",
       "      <td>240</td>\n",
       "      <td>85</td>\n",
       "      <td>53</td>\n",
       "      <td>17</td>\n",
       "      <td>3</td>\n",
       "      <td>1</td>\n",
       "    </tr>\n",
       "    <tr>\n",
       "      <td>1</td>\n",
       "      <td>Delhi</td>\n",
       "      <td>Male</td>\n",
       "      <td>Legal</td>\n",
       "      <td>Walk</td>\n",
       "      <td>4</td>\n",
       "      <td>1</td>\n",
       "      <td>Diabetes</td>\n",
       "      <td>53</td>\n",
       "      <td>11</td>\n",
       "      <td>&lt;200</td>\n",
       "      <td>Stage-01</td>\n",
       "      <td>409</td>\n",
       "      <td>95</td>\n",
       "      <td>138</td>\n",
       "      <td>241</td>\n",
       "      <td>81</td>\n",
       "      <td>61</td>\n",
       "      <td>2</td>\n",
       "      <td>5</td>\n",
       "      <td>1</td>\n",
       "    </tr>\n",
       "    <tr>\n",
       "      <td>2</td>\n",
       "      <td>Delhi</td>\n",
       "      <td>Female</td>\n",
       "      <td>Sales</td>\n",
       "      <td>Car</td>\n",
       "      <td>4</td>\n",
       "      <td>1</td>\n",
       "      <td>Diabetes</td>\n",
       "      <td>35</td>\n",
       "      <td>9</td>\n",
       "      <td>&lt;100</td>\n",
       "      <td>Stage-02</td>\n",
       "      <td>440</td>\n",
       "      <td>40</td>\n",
       "      <td>166</td>\n",
       "      <td>236</td>\n",
       "      <td>88</td>\n",
       "      <td>47</td>\n",
       "      <td>24</td>\n",
       "      <td>3</td>\n",
       "      <td>2</td>\n",
       "    </tr>\n",
       "    <tr>\n",
       "      <td>3</td>\n",
       "      <td>Delhi</td>\n",
       "      <td>Female</td>\n",
       "      <td>Sales</td>\n",
       "      <td>Car</td>\n",
       "      <td>4</td>\n",
       "      <td>1</td>\n",
       "      <td>None</td>\n",
       "      <td>31</td>\n",
       "      <td>12</td>\n",
       "      <td>&lt;300</td>\n",
       "      <td>Elevated</td>\n",
       "      <td>206</td>\n",
       "      <td>78</td>\n",
       "      <td>83</td>\n",
       "      <td>211</td>\n",
       "      <td>87</td>\n",
       "      <td>52</td>\n",
       "      <td>13</td>\n",
       "      <td>6</td>\n",
       "      <td>2</td>\n",
       "    </tr>\n",
       "    <tr>\n",
       "      <td>4</td>\n",
       "      <td>Delhi</td>\n",
       "      <td>Female</td>\n",
       "      <td>Business</td>\n",
       "      <td>Car</td>\n",
       "      <td>4</td>\n",
       "      <td>1</td>\n",
       "      <td>Diabetes</td>\n",
       "      <td>51</td>\n",
       "      <td>6</td>\n",
       "      <td>&lt;200</td>\n",
       "      <td>Stage-01</td>\n",
       "      <td>229</td>\n",
       "      <td>109</td>\n",
       "      <td>207</td>\n",
       "      <td>312</td>\n",
       "      <td>94</td>\n",
       "      <td>68</td>\n",
       "      <td>39</td>\n",
       "      <td>5</td>\n",
       "      <td>1</td>\n",
       "    </tr>\n",
       "  </tbody>\n",
       "</table>\n",
       "</div>"
      ],
      "text/plain": [
       "  Region  Gender Occupation Mode_transport  cases/1M  Deaths/1M comorbidity  \\\n",
       "0  Delhi  Female     Driver         Public         4          1    Diabetes   \n",
       "1  Delhi    Male      Legal           Walk         4          1    Diabetes   \n",
       "2  Delhi  Female      Sales            Car         4          1    Diabetes   \n",
       "3  Delhi  Female      Sales            Car         4          1        None   \n",
       "4  Delhi  Female   Business            Car         4          1    Diabetes   \n",
       "\n",
       "   Age  Coma score Pulmonary score cardiological pressure  Diuresis  \\\n",
       "0   52           3            <200               Stage-01       388   \n",
       "1   53          11            <200               Stage-01       409   \n",
       "2   35           9            <100               Stage-02       440   \n",
       "3   31          12            <300               Elevated       206   \n",
       "4   51           6            <200               Stage-01       229   \n",
       "\n",
       "   Platelets  HBB  d-dimer  Heart rate  HDL cholesterol  Charlson Index  \\\n",
       "0        153  196      240          85               53              17   \n",
       "1         95  138      241          81               61               2   \n",
       "2         40  166      236          88               47              24   \n",
       "3         78   83      211          87               52              13   \n",
       "4        109  207      312          94               68              39   \n",
       "\n",
       "   Blood Glucose  FT/month  \n",
       "0              3         1  \n",
       "1              5         1  \n",
       "2              3         2  \n",
       "3              6         2  \n",
       "4              5         1  "
      ]
     },
     "execution_count": 33,
     "metadata": {},
     "output_type": "execute_result"
    }
   ],
   "source": [
    "ds1.head()"
   ]
  },
  {
   "cell_type": "code",
   "execution_count": 34,
   "metadata": {},
   "outputs": [
    {
     "data": {
      "text/plain": [
       "Series([], dtype: float64)"
      ]
     },
     "execution_count": 34,
     "metadata": {},
     "output_type": "execute_result"
    }
   ],
   "source": [
    "ds1_null = ds1.columns[ds1.isnull().any()]\n",
    "ds1[ds1_null].isnull().sum()"
   ]
  },
  {
   "cell_type": "code",
   "execution_count": 35,
   "metadata": {},
   "outputs": [
    {
     "data": {
      "text/plain": [
       "['Region',\n",
       " 'Gender',\n",
       " 'Occupation',\n",
       " 'Mode_transport',\n",
       " 'comorbidity',\n",
       " 'Pulmonary score',\n",
       " 'cardiological pressure']"
      ]
     },
     "execution_count": 35,
     "metadata": {},
     "output_type": "execute_result"
    }
   ],
   "source": [
    "ds1_categ = list(ds1.select_dtypes(exclude = [\"number\"]).columns)\n",
    "ds1_categ"
   ]
  },
  {
   "cell_type": "markdown",
   "metadata": {},
   "source": [
    "### Converting Categorical Value to Continous Value using Label Encoder"
   ]
  },
  {
   "cell_type": "code",
   "execution_count": 36,
   "metadata": {},
   "outputs": [
    {
     "name": "stdout",
     "output_type": "stream",
     "text": [
      "['Delhi' 'Hyderabad' 'Kolkata' 'Mumbai' 'Pune' 'Thiruvananthapuram']\n",
      "['Female' 'Male']\n",
      "['Driver' 'Legal' 'Sales' 'Business' 'Manufacturing' 'Researcher' 'Clerk'\n",
      " 'Cleaner' 'Farmer']\n",
      "['Public' 'Walk' 'Car']\n",
      "['Diabetes' 'None' 'Hypertension' 'Coronary Heart Disease']\n",
      "['<200' '<100' '<300' '<400']\n",
      "['Stage-01' 'Stage-02' 'Elevated' 'Normal']\n"
     ]
    }
   ],
   "source": [
    "le = LabelEncoder()\n",
    "for i in ds1_categ:\n",
    "    print(ds1[i].unique())\n",
    "    ds1[i] = le.fit_transform(ds1[i])"
   ]
  },
  {
   "cell_type": "code",
   "execution_count": 37,
   "metadata": {},
   "outputs": [
    {
     "data": {
      "text/html": [
       "<div>\n",
       "<style scoped>\n",
       "    .dataframe tbody tr th:only-of-type {\n",
       "        vertical-align: middle;\n",
       "    }\n",
       "\n",
       "    .dataframe tbody tr th {\n",
       "        vertical-align: top;\n",
       "    }\n",
       "\n",
       "    .dataframe thead th {\n",
       "        text-align: right;\n",
       "    }\n",
       "</style>\n",
       "<table border=\"1\" class=\"dataframe\">\n",
       "  <thead>\n",
       "    <tr style=\"text-align: right;\">\n",
       "      <th></th>\n",
       "      <th>Region</th>\n",
       "      <th>Gender</th>\n",
       "      <th>Occupation</th>\n",
       "      <th>Mode_transport</th>\n",
       "      <th>cases/1M</th>\n",
       "      <th>Deaths/1M</th>\n",
       "      <th>comorbidity</th>\n",
       "      <th>Age</th>\n",
       "      <th>Coma score</th>\n",
       "      <th>Pulmonary score</th>\n",
       "      <th>cardiological pressure</th>\n",
       "      <th>Diuresis</th>\n",
       "      <th>Platelets</th>\n",
       "      <th>HBB</th>\n",
       "      <th>d-dimer</th>\n",
       "      <th>Heart rate</th>\n",
       "      <th>HDL cholesterol</th>\n",
       "      <th>Charlson Index</th>\n",
       "      <th>Blood Glucose</th>\n",
       "      <th>FT/month</th>\n",
       "    </tr>\n",
       "  </thead>\n",
       "  <tbody>\n",
       "    <tr>\n",
       "      <td>0</td>\n",
       "      <td>0</td>\n",
       "      <td>0</td>\n",
       "      <td>3</td>\n",
       "      <td>1</td>\n",
       "      <td>4</td>\n",
       "      <td>1</td>\n",
       "      <td>1</td>\n",
       "      <td>52</td>\n",
       "      <td>3</td>\n",
       "      <td>1</td>\n",
       "      <td>2</td>\n",
       "      <td>388</td>\n",
       "      <td>153</td>\n",
       "      <td>196</td>\n",
       "      <td>240</td>\n",
       "      <td>85</td>\n",
       "      <td>53</td>\n",
       "      <td>17</td>\n",
       "      <td>3</td>\n",
       "      <td>1</td>\n",
       "    </tr>\n",
       "    <tr>\n",
       "      <td>1</td>\n",
       "      <td>0</td>\n",
       "      <td>1</td>\n",
       "      <td>5</td>\n",
       "      <td>2</td>\n",
       "      <td>4</td>\n",
       "      <td>1</td>\n",
       "      <td>1</td>\n",
       "      <td>53</td>\n",
       "      <td>11</td>\n",
       "      <td>1</td>\n",
       "      <td>2</td>\n",
       "      <td>409</td>\n",
       "      <td>95</td>\n",
       "      <td>138</td>\n",
       "      <td>241</td>\n",
       "      <td>81</td>\n",
       "      <td>61</td>\n",
       "      <td>2</td>\n",
       "      <td>5</td>\n",
       "      <td>1</td>\n",
       "    </tr>\n",
       "    <tr>\n",
       "      <td>2</td>\n",
       "      <td>0</td>\n",
       "      <td>0</td>\n",
       "      <td>8</td>\n",
       "      <td>0</td>\n",
       "      <td>4</td>\n",
       "      <td>1</td>\n",
       "      <td>1</td>\n",
       "      <td>35</td>\n",
       "      <td>9</td>\n",
       "      <td>0</td>\n",
       "      <td>3</td>\n",
       "      <td>440</td>\n",
       "      <td>40</td>\n",
       "      <td>166</td>\n",
       "      <td>236</td>\n",
       "      <td>88</td>\n",
       "      <td>47</td>\n",
       "      <td>24</td>\n",
       "      <td>3</td>\n",
       "      <td>2</td>\n",
       "    </tr>\n",
       "    <tr>\n",
       "      <td>3</td>\n",
       "      <td>0</td>\n",
       "      <td>0</td>\n",
       "      <td>8</td>\n",
       "      <td>0</td>\n",
       "      <td>4</td>\n",
       "      <td>1</td>\n",
       "      <td>3</td>\n",
       "      <td>31</td>\n",
       "      <td>12</td>\n",
       "      <td>2</td>\n",
       "      <td>0</td>\n",
       "      <td>206</td>\n",
       "      <td>78</td>\n",
       "      <td>83</td>\n",
       "      <td>211</td>\n",
       "      <td>87</td>\n",
       "      <td>52</td>\n",
       "      <td>13</td>\n",
       "      <td>6</td>\n",
       "      <td>2</td>\n",
       "    </tr>\n",
       "    <tr>\n",
       "      <td>4</td>\n",
       "      <td>0</td>\n",
       "      <td>0</td>\n",
       "      <td>0</td>\n",
       "      <td>0</td>\n",
       "      <td>4</td>\n",
       "      <td>1</td>\n",
       "      <td>1</td>\n",
       "      <td>51</td>\n",
       "      <td>6</td>\n",
       "      <td>1</td>\n",
       "      <td>2</td>\n",
       "      <td>229</td>\n",
       "      <td>109</td>\n",
       "      <td>207</td>\n",
       "      <td>312</td>\n",
       "      <td>94</td>\n",
       "      <td>68</td>\n",
       "      <td>39</td>\n",
       "      <td>5</td>\n",
       "      <td>1</td>\n",
       "    </tr>\n",
       "  </tbody>\n",
       "</table>\n",
       "</div>"
      ],
      "text/plain": [
       "   Region  Gender  Occupation  Mode_transport  cases/1M  Deaths/1M  \\\n",
       "0       0       0           3               1         4          1   \n",
       "1       0       1           5               2         4          1   \n",
       "2       0       0           8               0         4          1   \n",
       "3       0       0           8               0         4          1   \n",
       "4       0       0           0               0         4          1   \n",
       "\n",
       "   comorbidity  Age  Coma score  Pulmonary score  cardiological pressure  \\\n",
       "0            1   52           3                1                       2   \n",
       "1            1   53          11                1                       2   \n",
       "2            1   35           9                0                       3   \n",
       "3            3   31          12                2                       0   \n",
       "4            1   51           6                1                       2   \n",
       "\n",
       "   Diuresis  Platelets  HBB  d-dimer  Heart rate  HDL cholesterol  \\\n",
       "0       388        153  196      240          85               53   \n",
       "1       409         95  138      241          81               61   \n",
       "2       440         40  166      236          88               47   \n",
       "3       206         78   83      211          87               52   \n",
       "4       229        109  207      312          94               68   \n",
       "\n",
       "   Charlson Index  Blood Glucose  FT/month  \n",
       "0              17              3         1  \n",
       "1               2              5         1  \n",
       "2              24              3         2  \n",
       "3              13              6         2  \n",
       "4              39              5         1  "
      ]
     },
     "execution_count": 37,
     "metadata": {},
     "output_type": "execute_result"
    }
   ],
   "source": [
    "ds1.head()"
   ]
  },
  {
   "cell_type": "markdown",
   "metadata": {},
   "source": [
    "#### <b>Substituting the new Diuresis value in Test Dataset form LSTM model.<b>"
   ]
  },
  {
   "cell_type": "code",
   "execution_count": 38,
   "metadata": {},
   "outputs": [
    {
     "name": "stdout",
     "output_type": "stream",
     "text": [
      "0\n"
     ]
    },
    {
     "name": "stderr",
     "output_type": "stream",
     "text": [
      "C:\\Users\\kumar\\Anaconda3\\lib\\site-packages\\ipykernel_launcher.py:3: SettingWithCopyWarning: \n",
      "A value is trying to be set on a copy of a slice from a DataFrame\n",
      "\n",
      "See the caveats in the documentation: http://pandas.pydata.org/pandas-docs/stable/user_guide/indexing.html#returning-a-view-versus-a-copy\n",
      "  This is separate from the ipykernel package so we can avoid doing imports until\n"
     ]
    }
   ],
   "source": [
    "for i in range(len(temp)):\n",
    "    print(i)\n",
    "    ds1['Diuresis'][i]=temp[i][0]"
   ]
  },
  {
   "cell_type": "code",
   "execution_count": 39,
   "metadata": {},
   "outputs": [
    {
     "data": {
      "text/html": [
       "<div>\n",
       "<style scoped>\n",
       "    .dataframe tbody tr th:only-of-type {\n",
       "        vertical-align: middle;\n",
       "    }\n",
       "\n",
       "    .dataframe tbody tr th {\n",
       "        vertical-align: top;\n",
       "    }\n",
       "\n",
       "    .dataframe thead th {\n",
       "        text-align: right;\n",
       "    }\n",
       "</style>\n",
       "<table border=\"1\" class=\"dataframe\">\n",
       "  <thead>\n",
       "    <tr style=\"text-align: right;\">\n",
       "      <th></th>\n",
       "      <th>Region</th>\n",
       "      <th>Gender</th>\n",
       "      <th>Occupation</th>\n",
       "      <th>Mode_transport</th>\n",
       "      <th>cases/1M</th>\n",
       "      <th>Deaths/1M</th>\n",
       "      <th>comorbidity</th>\n",
       "      <th>Age</th>\n",
       "      <th>Coma score</th>\n",
       "      <th>Pulmonary score</th>\n",
       "      <th>cardiological pressure</th>\n",
       "      <th>Diuresis</th>\n",
       "      <th>Platelets</th>\n",
       "      <th>HBB</th>\n",
       "      <th>d-dimer</th>\n",
       "      <th>Heart rate</th>\n",
       "      <th>HDL cholesterol</th>\n",
       "      <th>Charlson Index</th>\n",
       "      <th>Blood Glucose</th>\n",
       "      <th>FT/month</th>\n",
       "    </tr>\n",
       "  </thead>\n",
       "  <tbody>\n",
       "    <tr>\n",
       "      <td>0</td>\n",
       "      <td>0</td>\n",
       "      <td>0</td>\n",
       "      <td>3</td>\n",
       "      <td>1</td>\n",
       "      <td>4</td>\n",
       "      <td>1</td>\n",
       "      <td>1</td>\n",
       "      <td>52</td>\n",
       "      <td>3</td>\n",
       "      <td>1</td>\n",
       "      <td>2</td>\n",
       "      <td>1823</td>\n",
       "      <td>153</td>\n",
       "      <td>196</td>\n",
       "      <td>240</td>\n",
       "      <td>85</td>\n",
       "      <td>53</td>\n",
       "      <td>17</td>\n",
       "      <td>3</td>\n",
       "      <td>1</td>\n",
       "    </tr>\n",
       "    <tr>\n",
       "      <td>1</td>\n",
       "      <td>0</td>\n",
       "      <td>1</td>\n",
       "      <td>5</td>\n",
       "      <td>2</td>\n",
       "      <td>4</td>\n",
       "      <td>1</td>\n",
       "      <td>1</td>\n",
       "      <td>53</td>\n",
       "      <td>11</td>\n",
       "      <td>1</td>\n",
       "      <td>2</td>\n",
       "      <td>409</td>\n",
       "      <td>95</td>\n",
       "      <td>138</td>\n",
       "      <td>241</td>\n",
       "      <td>81</td>\n",
       "      <td>61</td>\n",
       "      <td>2</td>\n",
       "      <td>5</td>\n",
       "      <td>1</td>\n",
       "    </tr>\n",
       "    <tr>\n",
       "      <td>2</td>\n",
       "      <td>0</td>\n",
       "      <td>0</td>\n",
       "      <td>8</td>\n",
       "      <td>0</td>\n",
       "      <td>4</td>\n",
       "      <td>1</td>\n",
       "      <td>1</td>\n",
       "      <td>35</td>\n",
       "      <td>9</td>\n",
       "      <td>0</td>\n",
       "      <td>3</td>\n",
       "      <td>440</td>\n",
       "      <td>40</td>\n",
       "      <td>166</td>\n",
       "      <td>236</td>\n",
       "      <td>88</td>\n",
       "      <td>47</td>\n",
       "      <td>24</td>\n",
       "      <td>3</td>\n",
       "      <td>2</td>\n",
       "    </tr>\n",
       "    <tr>\n",
       "      <td>3</td>\n",
       "      <td>0</td>\n",
       "      <td>0</td>\n",
       "      <td>8</td>\n",
       "      <td>0</td>\n",
       "      <td>4</td>\n",
       "      <td>1</td>\n",
       "      <td>3</td>\n",
       "      <td>31</td>\n",
       "      <td>12</td>\n",
       "      <td>2</td>\n",
       "      <td>0</td>\n",
       "      <td>206</td>\n",
       "      <td>78</td>\n",
       "      <td>83</td>\n",
       "      <td>211</td>\n",
       "      <td>87</td>\n",
       "      <td>52</td>\n",
       "      <td>13</td>\n",
       "      <td>6</td>\n",
       "      <td>2</td>\n",
       "    </tr>\n",
       "    <tr>\n",
       "      <td>4</td>\n",
       "      <td>0</td>\n",
       "      <td>0</td>\n",
       "      <td>0</td>\n",
       "      <td>0</td>\n",
       "      <td>4</td>\n",
       "      <td>1</td>\n",
       "      <td>1</td>\n",
       "      <td>51</td>\n",
       "      <td>6</td>\n",
       "      <td>1</td>\n",
       "      <td>2</td>\n",
       "      <td>229</td>\n",
       "      <td>109</td>\n",
       "      <td>207</td>\n",
       "      <td>312</td>\n",
       "      <td>94</td>\n",
       "      <td>68</td>\n",
       "      <td>39</td>\n",
       "      <td>5</td>\n",
       "      <td>1</td>\n",
       "    </tr>\n",
       "  </tbody>\n",
       "</table>\n",
       "</div>"
      ],
      "text/plain": [
       "   Region  Gender  Occupation  Mode_transport  cases/1M  Deaths/1M  \\\n",
       "0       0       0           3               1         4          1   \n",
       "1       0       1           5               2         4          1   \n",
       "2       0       0           8               0         4          1   \n",
       "3       0       0           8               0         4          1   \n",
       "4       0       0           0               0         4          1   \n",
       "\n",
       "   comorbidity  Age  Coma score  Pulmonary score  cardiological pressure  \\\n",
       "0            1   52           3                1                       2   \n",
       "1            1   53          11                1                       2   \n",
       "2            1   35           9                0                       3   \n",
       "3            3   31          12                2                       0   \n",
       "4            1   51           6                1                       2   \n",
       "\n",
       "   Diuresis  Platelets  HBB  d-dimer  Heart rate  HDL cholesterol  \\\n",
       "0      1823        153  196      240          85               53   \n",
       "1       409         95  138      241          81               61   \n",
       "2       440         40  166      236          88               47   \n",
       "3       206         78   83      211          87               52   \n",
       "4       229        109  207      312          94               68   \n",
       "\n",
       "   Charlson Index  Blood Glucose  FT/month  \n",
       "0              17              3         1  \n",
       "1               2              5         1  \n",
       "2              24              3         2  \n",
       "3              13              6         2  \n",
       "4              39              5         1  "
      ]
     },
     "execution_count": 39,
     "metadata": {},
     "output_type": "execute_result"
    }
   ],
   "source": [
    "ds1.head()"
   ]
  },
  {
   "cell_type": "code",
   "execution_count": 40,
   "metadata": {},
   "outputs": [
    {
     "data": {
      "text/plain": [
       "(10714, 21)"
      ]
     },
     "execution_count": 40,
     "metadata": {},
     "output_type": "execute_result"
    }
   ],
   "source": [
    "ds.shape"
   ]
  },
  {
   "cell_type": "code",
   "execution_count": 41,
   "metadata": {},
   "outputs": [
    {
     "data": {
      "text/plain": [
       "(14498, 20)"
      ]
     },
     "execution_count": 41,
     "metadata": {},
     "output_type": "execute_result"
    }
   ],
   "source": [
    "ds1.shape"
   ]
  },
  {
   "cell_type": "markdown",
   "metadata": {},
   "source": [
    "### Using MinMax Scaler for Normalizing"
   ]
  },
  {
   "cell_type": "code",
   "execution_count": 42,
   "metadata": {},
   "outputs": [],
   "source": [
    "X = ds.iloc[:,0:20]\n",
    "y = ds.iloc[:,[20]]\n",
    "\n",
    "from sklearn.preprocessing import MinMaxScaler\n",
    "scaler = MinMaxScaler()\n",
    "scaler2=MinMaxScaler()\n",
    "X_train = scaler.fit_transform(X)\n",
    "y = np.reshape(np.array(y), (-1,1))\n",
    "y_train = scaler2.fit_transform(y)"
   ]
  },
  {
   "cell_type": "code",
   "execution_count": 43,
   "metadata": {},
   "outputs": [
    {
     "data": {
      "text/plain": [
       "(10714, 20)"
      ]
     },
     "execution_count": 43,
     "metadata": {},
     "output_type": "execute_result"
    }
   ],
   "source": [
    "X_train.shape"
   ]
  },
  {
   "cell_type": "code",
   "execution_count": 44,
   "metadata": {},
   "outputs": [
    {
     "data": {
      "text/plain": [
       "(10714, 1)"
      ]
     },
     "execution_count": 44,
     "metadata": {},
     "output_type": "execute_result"
    }
   ],
   "source": [
    "y_train.shape"
   ]
  },
  {
   "cell_type": "code",
   "execution_count": 45,
   "metadata": {},
   "outputs": [],
   "source": [
    "A = ds1.iloc[:,0:20]"
   ]
  },
  {
   "cell_type": "code",
   "execution_count": 46,
   "metadata": {},
   "outputs": [],
   "source": [
    "scaler = MinMaxScaler()\n",
    "X_test = scaler.fit_transform(A)"
   ]
  },
  {
   "cell_type": "code",
   "execution_count": 47,
   "metadata": {},
   "outputs": [
    {
     "data": {
      "text/plain": [
       "(14498, 20)"
      ]
     },
     "execution_count": 47,
     "metadata": {},
     "output_type": "execute_result"
    }
   ],
   "source": [
    "X_test.shape"
   ]
  },
  {
   "cell_type": "markdown",
   "metadata": {},
   "source": [
    "# Support Vector Regression"
   ]
  },
  {
   "cell_type": "markdown",
   "metadata": {},
   "source": [
    "<b>I have just used rbf kernel with gamma and C as a parameter. I didn't go for with other kernels and various values of gamma and C because the other kernels were taking lot of time to train and fit the dataset. I got the mean absolute better in linear kernel but it is taking a lot of time in training the dataset set compare to rbf kernel. Tried Grid Search also to get the best kernel and parameters but due to system capacity it was taking a lot of time to give the best model. Therefore, I have used the rbf kernel to build the model and train the dataset</b>"
   ]
  },
  {
   "cell_type": "code",
   "execution_count": 48,
   "metadata": {},
   "outputs": [],
   "source": [
    "from sklearn.svm import SVR"
   ]
  },
  {
   "cell_type": "code",
   "execution_count": 49,
   "metadata": {},
   "outputs": [],
   "source": [
    "svr1 = SVR(kernel = 'rbf',gamma=1, C = 10000)"
   ]
  },
  {
   "cell_type": "code",
   "execution_count": 50,
   "metadata": {},
   "outputs": [
    {
     "name": "stderr",
     "output_type": "stream",
     "text": [
      "C:\\Users\\kumar\\Anaconda3\\lib\\site-packages\\sklearn\\utils\\validation.py:724: DataConversionWarning: A column-vector y was passed when a 1d array was expected. Please change the shape of y to (n_samples, ), for example using ravel().\n",
      "  y = column_or_1d(y, warn=True)\n"
     ]
    },
    {
     "data": {
      "text/plain": [
       "SVR(C=10000, cache_size=200, coef0=0.0, degree=3, epsilon=0.1, gamma=1,\n",
       "    kernel='rbf', max_iter=-1, shrinking=True, tol=0.001, verbose=False)"
      ]
     },
     "execution_count": 50,
     "metadata": {},
     "output_type": "execute_result"
    }
   ],
   "source": [
    "svr1.fit(X_train,y_train)"
   ]
  },
  {
   "cell_type": "code",
   "execution_count": 51,
   "metadata": {},
   "outputs": [],
   "source": [
    "predictions = svr1.predict(X_test)"
   ]
  },
  {
   "cell_type": "code",
   "execution_count": 52,
   "metadata": {},
   "outputs": [
    {
     "data": {
      "text/plain": [
       "array([0.32432572, 0.25439328, 0.38916057, ..., 0.31602042, 0.36161314,\n",
       "       0.42935267])"
      ]
     },
     "execution_count": 52,
     "metadata": {},
     "output_type": "execute_result"
    }
   ],
   "source": [
    "predictions"
   ]
  },
  {
   "cell_type": "code",
   "execution_count": 53,
   "metadata": {},
   "outputs": [],
   "source": [
    "temp1=predictions.reshape(-1,1)\n",
    "temp1=scaler2.inverse_transform(temp1)"
   ]
  },
  {
   "cell_type": "code",
   "execution_count": 54,
   "metadata": {},
   "outputs": [
    {
     "data": {
      "text/plain": [
       "array([[51.45479833],\n",
       "       [46.67544764],\n",
       "       [55.88576708],\n",
       "       ...,\n",
       "       [50.88719421],\n",
       "       [54.00310978],\n",
       "       [58.63259201]])"
      ]
     },
     "execution_count": 54,
     "metadata": {},
     "output_type": "execute_result"
    }
   ],
   "source": [
    "temp1"
   ]
  },
  {
   "cell_type": "code",
   "execution_count": 55,
   "metadata": {},
   "outputs": [],
   "source": [
    "testpplid=ds2.iloc[:,0].values"
   ]
  },
  {
   "cell_type": "code",
   "execution_count": 56,
   "metadata": {},
   "outputs": [],
   "source": [
    "import xlsxwriter \n",
    "  \n",
    "workbook = xlsxwriter.Workbook('part2.xlsx') \n",
    "worksheet = workbook.add_worksheet() \n",
    "  \n",
    "row = 0\n",
    "row_id=0\n",
    "column_id = 0\n",
    "column=1\n",
    "  \n",
    "for i in range(len(temp1)) : \n",
    "  \n",
    "    \n",
    "    worksheet.write(row, column_id, testpplid[i])\n",
    "    worksheet.write(row, column, temp1[i]) \n",
    "    \n",
    "    row += 1\n",
    "      \n",
    "workbook.close() "
   ]
  },
  {
   "cell_type": "code",
   "execution_count": null,
   "metadata": {},
   "outputs": [],
   "source": []
  }
 ],
 "metadata": {
  "kernelspec": {
   "display_name": "Python 3",
   "language": "python",
   "name": "python3"
  },
  "language_info": {
   "codemirror_mode": {
    "name": "ipython",
    "version": 3
   },
   "file_extension": ".py",
   "mimetype": "text/x-python",
   "name": "python",
   "nbconvert_exporter": "python",
   "pygments_lexer": "ipython3",
   "version": "3.7.4"
  }
 },
 "nbformat": 4,
 "nbformat_minor": 2
}
